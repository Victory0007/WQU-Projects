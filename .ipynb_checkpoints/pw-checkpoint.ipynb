{
 "cells": [
  {
   "cell_type": "code",
   "execution_count": 20,
   "metadata": {
    "init_cell": true
   },
   "outputs": [],
   "source": [
    "%logstop\n",
    "%logstart -rtq ~/.logs/pw.py append\n",
    "import seaborn as sns\n",
    "sns.set()"
   ]
  },
  {
   "cell_type": "code",
   "execution_count": 3,
   "metadata": {},
   "outputs": [],
   "source": [
    "from static_grader import grader"
   ]
  },
  {
   "cell_type": "markdown",
   "metadata": {},
   "source": [
    "# PW Miniproject\n",
    "## Introduction\n",
    "\n",
    "The objective of this miniproject is to exercise your ability to use basic Python data structures, define functions, and control program flow. We will be using these concepts to perform some fundamental data wrangling tasks such as joining data sets together, splitting data into groups, and aggregating data into summary statistics.\n",
    "**Please do not use `pandas` or `numpy` to answer these questions.**\n",
    "\n",
    "We will be working with medical data from the British NHS on prescription drugs. Since this is real data, it contains many ambiguities that we will need to confront in our analysis. This is commonplace in data science, and is one of the lessons you will learn in this miniproject."
   ]
  },
  {
   "cell_type": "markdown",
   "metadata": {},
   "source": [
    "## Downloading the data\n",
    "\n",
    "We first need to download the data we'll be using from Amazon S3:"
   ]
  },
  {
   "cell_type": "code",
   "execution_count": 4,
   "metadata": {},
   "outputs": [
    {
     "name": "stderr",
     "output_type": "stream",
     "text": [
      "--2021-12-01 08:51:27--  http://dataincubator-wqu.s3.amazonaws.com/pwdata/201701scripts_sample.json.gz\n",
      "Resolving dataincubator-wqu.s3.amazonaws.com (dataincubator-wqu.s3.amazonaws.com)... 52.216.8.163\n",
      "Connecting to dataincubator-wqu.s3.amazonaws.com (dataincubator-wqu.s3.amazonaws.com)|52.216.8.163|:80... connected.\n",
      "HTTP request sent, awaiting response... 200 OK\n",
      "Length: 10367709 (9.9M) [application/json]\n",
      "Saving to: ‘./pw-data/201701scripts_sample.json.gz’\n",
      "\n",
      "     0K .......... .......... .......... .......... ..........  0% 3.56M 3s\n",
      "    50K .......... .......... .......... .......... ..........  0% 7.25M 2s\n",
      "   100K .......... .......... .......... .......... ..........  1% 6.85M 2s\n",
      "   150K .......... .......... .......... .......... ..........  1% 46.9M 1s\n",
      "   200K .......... .......... .......... .......... ..........  2% 8.61M 1s\n",
      "   250K .......... .......... .......... .......... ..........  2% 64.2M 1s\n",
      "   300K .......... .......... .......... .......... ..........  3% 53.9M 1s\n",
      "   350K .......... .......... .......... .......... ..........  3% 70.3M 1s\n",
      "   400K .......... .......... .......... .......... ..........  4% 72.1M 1s\n",
      "   450K .......... .......... .......... .......... ..........  4% 17.7M 1s\n",
      "   500K .......... .......... .......... .......... ..........  5% 43.7M 1s\n",
      "   550K .......... .......... .......... .......... ..........  5% 59.3M 1s\n",
      "   600K .......... .......... .......... .......... ..........  6%  217M 1s\n",
      "   650K .......... .......... .......... .......... ..........  6%  243M 1s\n",
      "   700K .......... .......... .......... .......... ..........  7%  264M 1s\n",
      "   750K .......... .......... .......... .......... ..........  7%  261M 0s\n",
      "   800K .......... .......... .......... .......... ..........  8%  202M 0s\n",
      "   850K .......... .......... .......... .......... ..........  8%  375M 0s\n",
      "   900K .......... .......... .......... .......... ..........  9%  248M 0s\n",
      "   950K .......... .......... .......... .......... ..........  9% 7.65M 0s\n",
      "  1000K .......... .......... .......... .......... .......... 10% 40.9M 0s\n",
      "  1050K .......... .......... .......... .......... .......... 10% 52.1M 0s\n",
      "  1100K .......... .......... .......... .......... .......... 11% 44.4M 0s\n",
      "  1150K .......... .......... .......... .......... .......... 11% 54.7M 0s\n",
      "  1200K .......... .......... .......... .......... .......... 12% 41.5M 0s\n",
      "  1250K .......... .......... .......... .......... .......... 12% 32.3M 0s\n",
      "  1300K .......... .......... .......... .......... .......... 13% 35.8M 0s\n",
      "  1350K .......... .......... .......... .......... .......... 13% 26.1M 0s\n",
      "  1400K .......... .......... .......... .......... .......... 14% 25.5M 0s\n",
      "  1450K .......... .......... .......... .......... .......... 14% 35.5M 0s\n",
      "  1500K .......... .......... .......... .......... .......... 15% 40.9M 0s\n",
      "  1550K .......... .......... .......... .......... .......... 15% 40.1M 0s\n",
      "  1600K .......... .......... .......... .......... .......... 16% 64.7M 0s\n",
      "  1650K .......... .......... .......... .......... .......... 16% 42.6M 0s\n",
      "  1700K .......... .......... .......... .......... .......... 17% 41.7M 0s\n",
      "  1750K .......... .......... .......... .......... .......... 17% 41.2M 0s\n",
      "  1800K .......... .......... .......... .......... .......... 18% 53.3M 0s\n",
      "  1850K .......... .......... .......... .......... .......... 18% 63.4M 0s\n",
      "  1900K .......... .......... .......... .......... .......... 19%  258M 0s\n",
      "  1950K .......... .......... .......... .......... .......... 19%  170M 0s\n",
      "  2000K .......... .......... .......... .......... .......... 20%  267M 0s\n",
      "  2050K .......... .......... .......... .......... .......... 20%  303M 0s\n",
      "  2100K .......... .......... .......... .......... .......... 21%  165M 0s\n",
      "  2150K .......... .......... .......... .......... .......... 21%  276M 0s\n",
      "  2200K .......... .......... .......... .......... .......... 22%  284M 0s\n",
      "  2250K .......... .......... .......... .......... .......... 22%  268M 0s\n",
      "  2300K .......... .......... .......... .......... .......... 23%  229M 0s\n",
      "  2350K .......... .......... .......... .......... .......... 23%  140M 0s\n",
      "  2400K .......... .......... .......... .......... .......... 24%  128M 0s\n",
      "  2450K .......... .......... .......... .......... .......... 24%  240M 0s\n",
      "  2500K .......... .......... .......... .......... .......... 25%  232M 0s\n",
      "  2550K .......... .......... .......... .......... .......... 25%  183M 0s\n",
      "  2600K .......... .......... .......... .......... .......... 26%  179M 0s\n",
      "  2650K .......... .......... .......... .......... .......... 26%  340M 0s\n",
      "  2700K .......... .......... .......... .......... .......... 27%  308M 0s\n",
      "  2750K .......... .......... .......... .......... .......... 27%  252M 0s\n",
      "  2800K .......... .......... .......... .......... .......... 28%  256M 0s\n",
      "  2850K .......... .......... .......... .......... .......... 28%  263M 0s\n",
      "  2900K .......... .......... .......... .......... .......... 29%  205M 0s\n",
      "  2950K .......... .......... .......... .......... .......... 29%  269M 0s\n",
      "  3000K .......... .......... .......... .......... .......... 30%  345M 0s\n",
      "  3050K .......... .......... .......... .......... .......... 30% 30.4M 0s\n",
      "  3100K .......... .......... .......... .......... .......... 31% 31.9M 0s\n",
      "  3150K .......... .......... .......... .......... .......... 31% 25.1M 0s\n",
      "  3200K .......... .......... .......... .......... .......... 32% 40.6M 0s\n",
      "  3250K .......... .......... .......... .......... .......... 32% 45.4M 0s\n",
      "  3300K .......... .......... .......... .......... .......... 33% 56.0M 0s\n",
      "  3350K .......... .......... .......... .......... .......... 33% 69.0M 0s\n",
      "  3400K .......... .......... .......... .......... .......... 34% 44.5M 0s\n",
      "  3450K .......... .......... .......... .......... .......... 34% 35.6M 0s\n",
      "  3500K .......... .......... .......... .......... .......... 35% 36.7M 0s\n",
      "  3550K .......... .......... .......... .......... .......... 35% 56.5M 0s\n",
      "  3600K .......... .......... .......... .......... .......... 36% 59.3M 0s\n",
      "  3650K .......... .......... .......... .......... .......... 36% 65.9M 0s\n",
      "  3700K .......... .......... .......... .......... .......... 37% 39.1M 0s\n",
      "  3750K .......... .......... .......... .......... .......... 37% 47.2M 0s\n",
      "  3800K .......... .......... .......... .......... .......... 38% 36.4M 0s\n",
      "  3850K .......... .......... .......... .......... .......... 38% 60.8M 0s\n",
      "  3900K .......... .......... .......... .......... .......... 39%  151M 0s\n",
      "  3950K .......... .......... .......... .......... .......... 39%  109M 0s\n",
      "  4000K .......... .......... .......... .......... .......... 40% 37.9M 0s\n",
      "  4050K .......... .......... .......... .......... .......... 40% 34.1M 0s\n",
      "  4100K .......... .......... .......... .......... .......... 40% 33.9M 0s\n",
      "  4150K .......... .......... .......... .......... .......... 41% 48.7M 0s\n",
      "  4200K .......... .......... .......... .......... .......... 41% 37.3M 0s\n",
      "  4250K .......... .......... .......... .......... .......... 42% 53.6M 0s\n",
      "  4300K .......... .......... .......... .......... .......... 42% 36.6M 0s\n",
      "  4350K .......... .......... .......... .......... .......... 43% 34.0M 0s\n",
      "  4400K .......... .......... .......... .......... .......... 43% 59.5M 0s\n",
      "  4450K .......... .......... .......... .......... .......... 44% 52.3M 0s\n",
      "  4500K .......... .......... .......... .......... .......... 44% 92.2M 0s\n",
      "  4550K .......... .......... .......... .......... .......... 45%  239M 0s\n",
      "  4600K .......... .......... .......... .......... .......... 45%  238M 0s\n",
      "  4650K .......... .......... .......... .......... .......... 46%  251M 0s\n",
      "  4700K .......... .......... .......... .......... .......... 46%  205M 0s\n",
      "  4750K .......... .......... .......... .......... .......... 47%  265M 0s\n",
      "  4800K .......... .......... .......... .......... .......... 47%  230M 0s\n",
      "  4850K .......... .......... .......... .......... .......... 48%  251M 0s\n",
      "  4900K .......... .......... .......... .......... .......... 48%  230M 0s\n",
      "  4950K .......... .......... .......... .......... .......... 49%  256M 0s\n",
      "  5000K .......... .......... .......... .......... .......... 49%  253M 0s\n",
      "  5050K .......... .......... .......... .......... .......... 50%  167M 0s\n",
      "  5100K .......... .......... .......... .......... .......... 50%  221M 0s\n",
      "  5150K .......... .......... .......... .......... .......... 51%  163M 0s\n",
      "  5200K .......... .......... .......... .......... .......... 51%  155M 0s\n",
      "  5250K .......... .......... .......... .......... .......... 52% 68.2M 0s\n",
      "  5300K .......... .......... .......... .......... .......... 52% 47.1M 0s\n",
      "  5350K .......... .......... .......... .......... .......... 53% 64.3M 0s\n",
      "  5400K .......... .......... .......... .......... .......... 53% 36.8M 0s\n",
      "  5450K .......... .......... .......... .......... .......... 54% 63.1M 0s\n",
      "  5500K .......... .......... .......... .......... .......... 54% 27.8M 0s\n",
      "  5550K .......... .......... .......... .......... .......... 55% 42.5M 0s\n",
      "  5600K .......... .......... .......... .......... .......... 55% 43.1M 0s\n",
      "  5650K .......... .......... .......... .......... .......... 56% 69.1M 0s\n",
      "  5700K .......... .......... .......... .......... .......... 56% 38.6M 0s\n",
      "  5750K .......... .......... .......... .......... .......... 57% 50.4M 0s\n",
      "  5800K .......... .......... .......... .......... .......... 57% 38.6M 0s\n",
      "  5850K .......... .......... .......... .......... .......... 58% 81.9M 0s\n",
      "  5900K .......... .......... .......... .......... .......... 58%  137M 0s\n",
      "  5950K .......... .......... .......... .......... .......... 59%  181M 0s\n",
      "  6000K .......... .......... .......... .......... .......... 59%  261M 0s\n",
      "  6050K .......... .......... .......... .......... .......... 60%  115M 0s\n",
      "  6100K .......... .......... .......... .......... .......... 60%  149M 0s\n",
      "  6150K .......... .......... .......... .......... .......... 61%  189M 0s\n",
      "  6200K .......... .......... .......... .......... .......... 61%  249M 0s\n",
      "  6250K .......... .......... .......... .......... .......... 62%  189M 0s\n",
      "  6300K .......... .......... .......... .......... .......... 62%  165M 0s\n",
      "  6350K .......... .......... .......... .......... .......... 63% 37.1M 0s\n",
      "  6400K .......... .......... .......... .......... .......... 63% 69.5M 0s\n",
      "  6450K .......... .......... .......... .......... .......... 64% 48.5M 0s\n",
      "  6500K .......... .......... .......... .......... .......... 64% 31.1M 0s\n",
      "  6550K .......... .......... .......... .......... .......... 65% 42.8M 0s\n",
      "  6600K .......... .......... .......... .......... .......... 65% 47.6M 0s\n",
      "  6650K .......... .......... .......... .......... .......... 66% 41.6M 0s\n",
      "  6700K .......... .......... .......... .......... .......... 66% 47.8M 0s\n",
      "  6750K .......... .......... .......... .......... .......... 67% 56.8M 0s\n",
      "  6800K .......... .......... .......... .......... .......... 67% 58.0M 0s\n",
      "  6850K .......... .......... .......... .......... .......... 68% 48.7M 0s\n",
      "  6900K .......... .......... .......... .......... .......... 68% 49.3M 0s\n",
      "  6950K .......... .......... .......... .......... .......... 69% 62.1M 0s\n",
      "  7000K .......... .......... .......... .......... .......... 69% 57.4M 0s\n",
      "  7050K .......... .......... .......... .......... .......... 70%  127M 0s\n",
      "  7100K .......... .......... .......... .......... .......... 70%  246M 0s\n",
      "  7150K .......... .......... .......... .......... .......... 71%  271M 0s\n",
      "  7200K .......... .......... .......... .......... .......... 71%  264M 0s\n",
      "  7250K .......... .......... .......... .......... .......... 72%  241M 0s\n",
      "  7300K .......... .......... .......... .......... .......... 72%  224M 0s\n",
      "  7350K .......... .......... .......... .......... .......... 73%  156M 0s\n",
      "  7400K .......... .......... .......... .......... .......... 73%  226M 0s\n",
      "  7450K .......... .......... .......... .......... .......... 74%  303M 0s\n",
      "  7500K .......... .......... .......... .......... .......... 74%  285M 0s\n",
      "  7550K .......... .......... .......... .......... .......... 75%  253M 0s\n",
      "  7600K .......... .......... .......... .......... .......... 75%  307M 0s\n",
      "  7650K .......... .......... .......... .......... .......... 76%  308M 0s\n",
      "  7700K .......... .......... .......... .......... .......... 76%  245M 0s\n",
      "  7750K .......... .......... .......... .......... .......... 77%  280M 0s\n",
      "  7800K .......... .......... .......... .......... .......... 77%  261M 0s\n",
      "  7850K .......... .......... .......... .......... .......... 78%  276M 0s\n",
      "  7900K .......... .......... .......... .......... .......... 78%  256M 0s\n",
      "  7950K .......... .......... .......... .......... .......... 79%  346M 0s\n",
      "  8000K .......... .......... .......... .......... .......... 79%  289M 0s\n",
      "  8050K .......... .......... .......... .......... .......... 80%  304M 0s\n",
      "  8100K .......... .......... .......... .......... .......... 80%  240M 0s\n",
      "  8150K .......... .......... .......... .......... .......... 80%  347M 0s\n",
      "  8200K .......... .......... .......... .......... .......... 81%  274M 0s\n",
      "  8250K .......... .......... .......... .......... .......... 81%  301M 0s\n",
      "  8300K .......... .......... .......... .......... .......... 82%  274M 0s\n",
      "  8350K .......... .......... .......... .......... .......... 82% 62.6M 0s\n",
      "  8400K .......... .......... .......... .......... .......... 83% 63.4M 0s\n",
      "  8450K .......... .......... .......... .......... .......... 83% 64.1M 0s\n",
      "  8500K .......... .......... .......... .......... .......... 84% 43.6M 0s\n",
      "  8550K .......... .......... .......... .......... .......... 84% 58.0M 0s\n",
      "  8600K .......... .......... .......... .......... .......... 85% 44.6M 0s\n",
      "  8650K .......... .......... .......... .......... .......... 85% 61.1M 0s\n",
      "  8700K .......... .......... .......... .......... .......... 86% 44.7M 0s\n",
      "  8750K .......... .......... .......... .......... .......... 86% 49.0M 0s\n",
      "  8800K .......... .......... .......... .......... .......... 87% 55.0M 0s\n",
      "  8850K .......... .......... .......... .......... .......... 87% 90.9M 0s\n",
      "  8900K .......... .......... .......... .......... .......... 88%  223M 0s\n",
      "  8950K .......... .......... .......... .......... .......... 88%  276M 0s\n",
      "  9000K .......... .......... .......... .......... .......... 89%  274M 0s\n",
      "  9050K .......... .......... .......... .......... .......... 89%  264M 0s\n",
      "  9100K .......... .......... .......... .......... .......... 90%  229M 0s\n",
      "  9150K .......... .......... .......... .......... .......... 90%  265M 0s\n",
      "  9200K .......... .......... .......... .......... .......... 91%  267M 0s\n",
      "  9250K .......... .......... .......... .......... .......... 91%  279M 0s\n",
      "  9300K .......... .......... .......... .......... .......... 92%  236M 0s\n",
      "  9350K .......... .......... .......... .......... .......... 92%  257M 0s\n",
      "  9400K .......... .......... .......... .......... .......... 93%  272M 0s\n",
      "  9450K .......... .......... .......... .......... .......... 93%  272M 0s\n",
      "  9500K .......... .......... .......... .......... .......... 94%  233M 0s\n",
      "  9550K .......... .......... .......... .......... .......... 94%  221M 0s\n",
      "  9600K .......... .......... .......... .......... .......... 95% 44.5M 0s\n",
      "  9650K .......... .......... .......... .......... .......... 95% 46.4M 0s\n",
      "  9700K .......... .......... .......... .......... .......... 96% 45.8M 0s\n",
      "  9750K .......... .......... .......... .......... .......... 96% 60.1M 0s\n",
      "  9800K .......... .......... .......... .......... .......... 97% 53.3M 0s\n",
      "  9850K .......... .......... .......... .......... .......... 97% 59.6M 0s\n",
      "  9900K .......... .......... .......... .......... .......... 98% 48.9M 0s\n",
      "  9950K .......... .......... .......... .......... .......... 98% 59.1M 0s\n",
      " 10000K .......... .......... .......... .......... .......... 99% 50.1M 0s\n",
      " 10050K .......... .......... .......... .......... .......... 99% 54.2M 0s\n",
      " 10100K .......... .......... ....                            100% 61.1M=0.2s\n",
      "\n",
      "2021-12-01 08:51:28 (58.2 MB/s) - ‘./pw-data/201701scripts_sample.json.gz’ saved [10367709/10367709]\n",
      "\n",
      "--2021-12-01 08:51:28--  http://dataincubator-wqu.s3.amazonaws.com/pwdata/practices.json.gz\n",
      "Resolving dataincubator-wqu.s3.amazonaws.com (dataincubator-wqu.s3.amazonaws.com)... 52.216.8.163\n",
      "Connecting to dataincubator-wqu.s3.amazonaws.com (dataincubator-wqu.s3.amazonaws.com)|52.216.8.163|:80... connected.\n",
      "HTTP request sent, awaiting response... 200 OK\n",
      "Length: 402461 (393K) [application/json]\n",
      "Saving to: ‘./pw-data/practices.json.gz’\n",
      "\n",
      "     0K .......... .......... .......... .......... .......... 12% 3.46M 0s\n",
      "    50K .......... .......... .......... .......... .......... 25% 7.18M 0s\n",
      "   100K .......... .......... .......... .......... .......... 38% 7.57M 0s\n",
      "   150K .......... .......... .......... .......... .......... 50% 44.1M 0s\n",
      "   200K .......... .......... .......... .......... .......... 63% 55.6M 0s\n",
      "   250K .......... .......... .......... .......... .......... 76% 60.5M 0s\n",
      "   300K .......... .......... .......... .......... .......... 89% 9.29M 0s\n",
      "   350K .......... .......... .......... .......... ...       100% 43.3M=0.04s\n",
      "\n",
      "2021-12-01 08:51:28 (10.5 MB/s) - ‘./pw-data/practices.json.gz’ saved [402461/402461]\n",
      "\n"
     ]
    }
   ],
   "source": [
    "%%bash\n",
    "mkdir pw-data\n",
    "wget http://dataincubator-wqu.s3.amazonaws.com/pwdata/201701scripts_sample.json.gz -nc -P ./pw-data\n",
    "wget http://dataincubator-wqu.s3.amazonaws.com/pwdata/practices.json.gz -nc -P ./pw-data"
   ]
  },
  {
   "cell_type": "markdown",
   "metadata": {},
   "source": [
    "## Loading the data\n",
    "\n",
    "The first step of the project is to read in the data. We will discuss reading and writing various kinds of files later in the course, but the code below should get you started."
   ]
  },
  {
   "cell_type": "code",
   "execution_count": 7,
   "metadata": {},
   "outputs": [],
   "source": [
    "import gzip\n",
    "import simplejson as json"
   ]
  },
  {
   "cell_type": "code",
   "execution_count": 8,
   "metadata": {},
   "outputs": [],
   "source": [
    "with gzip.open('./pw-data/201701scripts_sample.json.gz', 'rb') as f:\n",
    "    scripts = json.load(f)\n",
    "\n",
    "with gzip.open('./pw-data/practices.json.gz', 'rb') as f:\n",
    "    practices = json.load(f)"
   ]
  },
  {
   "cell_type": "markdown",
   "metadata": {},
   "source": [
    "This data set comes from Britain's National Health Service. The `scripts` variable is a list of prescriptions issued by NHS doctors. Each prescription is represented by a dictionary with various data fields: `'practice'`, `'bnf_code'`, `'bnf_name'`, `'quantity'`, `'items'`, `'nic'`, and `'act_cost'`. "
   ]
  },
  {
   "cell_type": "code",
   "execution_count": 9,
   "metadata": {},
   "outputs": [
    {
     "data": {
      "text/plain": [
       "[{'bnf_code': '0101010G0AAABAB',\n",
       "  'items': 2,\n",
       "  'practice': 'N81013',\n",
       "  'bnf_name': 'Co-Magaldrox_Susp 195mg/220mg/5ml S/F',\n",
       "  'nic': 5.98,\n",
       "  'act_cost': 5.56,\n",
       "  'quantity': 1000},\n",
       " {'bnf_code': '0101021B0AAAHAH',\n",
       "  'items': 1,\n",
       "  'practice': 'N81013',\n",
       "  'bnf_name': 'Alginate_Raft-Forming Oral Susp S/F',\n",
       "  'nic': 1.95,\n",
       "  'act_cost': 1.82,\n",
       "  'quantity': 500}]"
      ]
     },
     "execution_count": 9,
     "metadata": {},
     "output_type": "execute_result"
    }
   ],
   "source": [
    "scripts[:2]"
   ]
  },
  {
   "cell_type": "markdown",
   "metadata": {},
   "source": [
    "A [glossary of terms](http://webarchive.nationalarchives.gov.uk/20180328130852tf_/http://content.digital.nhs.uk/media/10686/Download-glossary-of-terms-for-GP-prescribing---presentation-level/pdf/PLP_Presentation_Level_Glossary_April_2015.pdf/) and [FAQ](http://webarchive.nationalarchives.gov.uk/20180328130852tf_/http://content.digital.nhs.uk/media/10048/FAQs-Practice-Level-Prescribingpdf/pdf/PLP_FAQs_April_2015.pdf/) is available from the NHS regarding the data. Below we supply a data dictionary briefly describing what these fields mean.\n",
    "\n",
    "| Data field |Description|\n",
    "|:----------:|-----------|\n",
    "|`'practice'`|Code designating the medical practice issuing the prescription|\n",
    "|`'bnf_code'`|British National Formulary drug code|\n",
    "|`'bnf_name'`|British National Formulary drug name|\n",
    "|`'quantity'`|Number of capsules/quantity of liquid/grams of powder prescribed|\n",
    "| `'items'`  |Number of refills (e.g. if `'quantity'` is 30 capsules, 3 `'items'` means 3 bottles of 30 capsules)|\n",
    "|  `'nic'`   |Net ingredient cost|\n",
    "|`'act_cost'`|Total cost including containers, fees, and discounts|"
   ]
  },
  {
   "cell_type": "markdown",
   "metadata": {},
   "source": [
    "The `practices` variable is a list of member medical practices of the NHS. Each practice is represented by a dictionary containing identifying information for the medical practice. Most of the data fields are self-explanatory. Notice the values in the `'code'` field of `practices` match the values in the `'practice'` field of `scripts`."
   ]
  },
  {
   "cell_type": "code",
   "execution_count": 10,
   "metadata": {},
   "outputs": [
    {
     "data": {
      "text/plain": [
       "[{'code': 'A81001',\n",
       "  'name': 'THE DENSHAM SURGERY',\n",
       "  'addr_1': 'THE HEALTH CENTRE',\n",
       "  'addr_2': 'LAWSON STREET',\n",
       "  'borough': 'STOCKTON ON TEES',\n",
       "  'village': 'CLEVELAND',\n",
       "  'post_code': 'TS18 1HU'},\n",
       " {'code': 'A81002',\n",
       "  'name': 'QUEENS PARK MEDICAL CENTRE',\n",
       "  'addr_1': 'QUEENS PARK MEDICAL CTR',\n",
       "  'addr_2': 'FARRER STREET',\n",
       "  'borough': 'STOCKTON ON TEES',\n",
       "  'village': 'CLEVELAND',\n",
       "  'post_code': 'TS18 2AW'}]"
      ]
     },
     "execution_count": 10,
     "metadata": {},
     "output_type": "execute_result"
    }
   ],
   "source": [
    "practices[:2]"
   ]
  },
  {
   "cell_type": "markdown",
   "metadata": {},
   "source": [
    "In the following questions we will ask you to explore this data set. You may need to combine pieces of the data set together in order to answer some questions. Not every element of the data set will be used in answering the questions."
   ]
  },
  {
   "cell_type": "markdown",
   "metadata": {},
   "source": [
    "## Question 1: summary_statistics\n",
    "\n",
    "Our beneficiary data (`scripts`) contains quantitative data on the number of items dispensed (`'items'`), the total quantity of item dispensed (`'quantity'`), the net cost of the ingredients (`'nic'`), and the actual cost to the patient (`'act_cost'`). Whenever working with a new data set, it can be useful to calculate summary statistics to develop a feeling for the volume and character of the data. This makes it easier to spot trends and significant features during further stages of analysis.\n",
    "\n",
    "Calculate the sum, mean, standard deviation, and quartile statistics for each of these quantities. Format your results for each quantity as a list: `[sum, mean, standard deviation, 1st quartile, median, 3rd quartile]`. We'll create a `tuple` with these lists for each quantity as a final result."
   ]
  },
  {
   "cell_type": "code",
   "execution_count": 11,
   "metadata": {},
   "outputs": [],
   "source": [
    "\n",
    "import math\n",
    "\n",
    "def describe(key):\n",
    "    \n",
    "    n = len(scripts)\n",
    "    \n",
    "    #mean\n",
    "    total = sum([script[key] for script in scripts])\n",
    "    avg = total/n\n",
    "    \n",
    "    #standard deviation\n",
    "    s = math.sqrt(sum([(script[key] - avg)**2 for script in scripts])/(n-1))\n",
    "    \n",
    "    #median\n",
    "    sorted_set = sorted([script[key] for script in scripts])\n",
    "    med = (sorted_set[n//2]+sorted_set[n//2 + 1])/2 if n%2 == 0 else sorted_set[math.ceil(n/2)]\n",
    "    \n",
    "    #first and third quartiles\n",
    "    lower_half = sorted_set[: math.floor(n/2) + 1]\n",
    "    upper_half = sorted_set[math.ceil(n/2) + 1 :]\n",
    "    m = len(lower_half)\n",
    "    q25 = (lower_half[m//2]+lower_half[m//2 + 1])/2\n",
    "    q75 = (upper_half[m//2]+upper_half[m//2 + 1])/2\n",
    "\n",
    "    return [total, avg, s, q25, med, q75]"
   ]
  },
  {
   "cell_type": "code",
   "execution_count": 13,
   "metadata": {},
   "outputs": [],
   "source": [
    "summary = [('items', describe('items')),\n",
    "           ('quantity', describe('quantity')),\n",
    "           ('nic', describe('nic')),\n",
    "           ('act_cost', describe('act_cost'))]"
   ]
  },
  {
   "cell_type": "code",
   "execution_count": 14,
   "metadata": {},
   "outputs": [
    {
     "name": "stdout",
     "output_type": "stream",
     "text": [
      "==================\n",
      "Your score: 1.000\n",
      "==================\n"
     ]
    }
   ],
   "source": [
    "grader.score.pw__summary_statistics(summary)"
   ]
  },
  {
   "cell_type": "markdown",
   "metadata": {},
   "source": [
    "## Question 2: most_common_item\n",
    "\n",
    "Often we are not interested only in how the data is distributed in our entire data set, but within particular groups -- for example, how many items of each drug (i.e. `'bnf_name'`) were prescribed? Calculate the total items prescribed for each `'bnf_name'`. What is the most commonly prescribed `'bnf_name'` in our data?\n",
    "\n",
    "To calculate this, we first need to split our data set into groups corresponding with the different values of `'bnf_name'`. Then we can sum the number of items dispensed within in each group. Finally we can find the largest sum.\n",
    "\n",
    "We'll use `'bnf_name'` to construct our groups. You should have *5619* unique values for `'bnf_name'`."
   ]
  },
  {
   "cell_type": "code",
   "execution_count": 16,
   "metadata": {},
   "outputs": [],
   "source": [
    "bnf_names = list(set([script['bnf_name'] for script in scripts]))\n",
    "assert(len(bnf_names) == 5619)"
   ]
  },
  {
   "cell_type": "markdown",
   "metadata": {},
   "source": [
    "We want to construct \"groups\" identified by `'bnf_name'`, where each group is a collection of prescriptions (i.e. dictionaries from `scripts`). We'll construct a dictionary called `groups`, using `bnf_names` as the keys. We'll represent a group with a `list`, since we can easily append new members to the group. To split our `scripts` into groups by `'bnf_name'`, we should iterate over `scripts`, appending prescription dictionaries to each group as we encounter them."
   ]
  },
  {
   "cell_type": "code",
   "execution_count": 17,
   "metadata": {},
   "outputs": [],
   "source": [
    "groups = {name: [] for name in bnf_names}\n",
    "for script in scripts:\n",
    "    groups[script['bnf_name']].append(script)"
   ]
  },
  {
   "cell_type": "markdown",
   "metadata": {},
   "source": [
    "Now that we've constructed our groups we should sum up `'items'` in each group and find the `'bnf_name'` with the largest sum. The result, `max_item`, should have the form `[(bnf_name, item total)]`, e.g. `[('Foobar', 2000)]`."
   ]
  },
  {
   "cell_type": "code",
   "execution_count": 18,
   "metadata": {},
   "outputs": [],
   "source": [
    "bnf_items = [(name, sum([group['items'] for group in groups[name]])) for name in groups.keys()]"
   ]
  },
  {
   "cell_type": "code",
   "execution_count": 21,
   "metadata": {},
   "outputs": [],
   "source": [
    "max_item = [max(bnf_items, key= lambda x : x[1])]\n"
   ]
  },
  {
   "cell_type": "code",
   "execution_count": 22,
   "metadata": {},
   "outputs": [
    {
     "data": {
      "text/plain": [
       "[('Omeprazole_Cap E/C 20mg', 113826)]"
      ]
     },
     "execution_count": 22,
     "metadata": {},
     "output_type": "execute_result"
    }
   ],
   "source": [
    "max_item\n"
   ]
  },
  {
   "cell_type": "markdown",
   "metadata": {},
   "source": [
    "**TIP:** If you are getting an error from the grader below, please make sure your answer conforms to the correct format of `[(bnf_name, item total)]`."
   ]
  },
  {
   "cell_type": "code",
   "execution_count": 23,
   "metadata": {},
   "outputs": [
    {
     "name": "stdout",
     "output_type": "stream",
     "text": [
      "==================\n",
      "Your score: 1.000\n",
      "==================\n"
     ]
    }
   ],
   "source": [
    "grader.score.pw__most_common_item(max_item)"
   ]
  },
  {
   "cell_type": "markdown",
   "metadata": {},
   "source": [
    "**Challenge:** Write a function that constructs groups as we did above. The function should accept a list of dictionaries (e.g. `scripts` or `practices`) and a tuple of fields to `groupby` (e.g. `('bnf_name',)` or `('bnf_name', 'post_code')`) and returns a dictionary of groups. The following questions will require you to aggregate data in groups, so this could be a useful function for the rest of the miniproject."
   ]
  },
  {
   "cell_type": "code",
   "execution_count": 26,
   "metadata": {},
   "outputs": [],
   "source": [
    "def group_by_field(data, fields):\n",
    "    \n",
    "    groups = {}\n",
    "    \n",
    "    for dic in data:\n",
    "        key = dic[fields[0]] if len(fields) == 1 else (dic[fields[0]], dic[fields[1]])\n",
    "        if key in groups:\n",
    "            groups[key].append(dic)\n",
    "        else:\n",
    "            groups[key] = [dic]\n",
    "                \n",
    "    return groups"
   ]
  },
  {
   "cell_type": "code",
   "execution_count": 27,
   "metadata": {},
   "outputs": [],
   "source": [
    "groups = group_by_field(scripts, ('bnf_name',))\n",
    "bnf_items = [(key, sum([group['items'] for group in groups[key]])) for key in groups.keys()]\n",
    "test_max_item = [max(bnf_items, key= lambda x : x[1])]\n",
    "\n",
    "assert test_max_item == max_item"
   ]
  },
  {
   "cell_type": "markdown",
   "metadata": {},
   "source": [
    "## Question 3: postal_totals\n",
    "\n",
    "Our data set is broken up among different files. This is typical for tabular data to reduce redundancy. Each table typically contains data about a particular type of event, processes, or physical object. Data on prescriptions and medical practices are in separate files in our case. If we want to find the total items prescribed in each postal code, we will have to _join_ our prescription data (`scripts`) to our clinic data (`practices`).\n",
    "\n",
    "Find the total items prescribed in each postal code, representing the results as a list of tuples `(post code, total items prescribed)`. Sort your results ascending alphabetically by post code and take only results from the first 100 post codes. Only include post codes if there is at least one prescription from a practice in that post code.\n",
    "\n",
    "**NOTE:** Some practices have multiple postal codes associated with them. Use the alphabetically first postal code."
   ]
  },
  {
   "cell_type": "markdown",
   "metadata": {},
   "source": [
    "We can join `scripts` and `practices` based on the fact that `'practice'` in `scripts` matches `'code'` in `practices`. However, we must first deal with the repeated values of `'code'` in `practices`. We want the alphabetically first postal codes."
   ]
  },
  {
   "cell_type": "code",
   "execution_count": 28,
   "metadata": {},
   "outputs": [],
   "source": [
    "practice_postal = {}\n",
    "for practice in practices:\n",
    "    if practice['code'] in practice_postal :\n",
    "        if practice['post_code'] < practice_postal[practice['code']]:\n",
    "            practice_postal[practice['code']] = practice['post_code']\n",
    "    else:\n",
    "        practice_postal[practice['code']] = practice['post_code']"
   ]
  },
  {
   "cell_type": "markdown",
   "metadata": {},
   "source": [
    "**Challenge:** This is an aggregation of the practice data grouped by practice codes. Write an alternative implementation of the above cell using the `group_by_field` function you defined previously."
   ]
  },
  {
   "cell_type": "code",
   "execution_count": 29,
   "metadata": {},
   "outputs": [],
   "source": [
    "groupsByCode = group_by_field(practices, ('code',))\n",
    "#post_codes = [sorted([practice['post_code'] for practice in groupsByCode[code]])[0] for code in groupsByCode.keys()]\n",
    "#practice_postal = {key:value for (key,value) in zip(groupsByCode.keys(), post_codes)}\n",
    "practice_postal = {key:value for key in groupsByCode.keys() \\\n",
    "                   for value in sorted([group['post_code'] for group in groupsByCode[key]])[:1]}"
   ]
  },
  {
   "cell_type": "code",
   "execution_count": 30,
   "metadata": {},
   "outputs": [],
   "source": [
    "assert practice_postal['K82019'] == 'HP21 8TR'"
   ]
  },
  {
   "cell_type": "markdown",
   "metadata": {},
   "source": [
    "Now we can join `practice_postal` to `scripts`."
   ]
  },
  {
   "cell_type": "code",
   "execution_count": 31,
   "metadata": {},
   "outputs": [],
   "source": [
    "joined = scripts[:]\n",
    "for script in joined:\n",
    "    script['post_code'] = practice_postal[script['practice']]"
   ]
  },
  {
   "cell_type": "markdown",
   "metadata": {},
   "source": [
    "Finally we'll group the prescription dictionaries in `joined` by `'post_code'` and sum up the items prescribed in each group, as we did in the previous question."
   ]
  },
  {
   "cell_type": "code",
   "execution_count": 32,
   "metadata": {},
   "outputs": [],
   "source": [
    "groups = group_by_field(joined, ('post_code',))\n",
    "items_by_post = [(name, sum([group['items'] for group in groups[name]])) for name in groups.keys()]"
   ]
  },
  {
   "cell_type": "code",
   "execution_count": 33,
   "metadata": {},
   "outputs": [
    {
     "data": {
      "text/plain": [
       "[('SK11 6JL', 110071),\n",
       " ('CW5 5NX', 38797),\n",
       " ('CW1 3AW', 64104),\n",
       " ('CW7 1AT', 43164),\n",
       " ('CH65 6TG', 25090)]"
      ]
     },
     "execution_count": 33,
     "metadata": {},
     "output_type": "execute_result"
    }
   ],
   "source": [
    "items_by_post[:5]"
   ]
  },
  {
   "cell_type": "code",
   "execution_count": 34,
   "metadata": {},
   "outputs": [
    {
     "name": "stdout",
     "output_type": "stream",
     "text": [
      "==================\n",
      "Your score: 1.000\n",
      "==================\n"
     ]
    }
   ],
   "source": [
    "postal_totals = sorted(items_by_post)[:100]\n",
    "\n",
    "\n",
    "grader.score.pw__postal_totals(postal_totals)"
   ]
  },
  {
   "cell_type": "markdown",
   "metadata": {},
   "source": [
    "## Question 4: items_by_region\n",
    "\n",
    "Now we'll combine the techniques we've developed to answer a more complex question. Find the most commonly dispensed item in each postal code, representing the results as a list of tuples (`post_code`, `bnf_name`, amount dispensed as proportion of total). Sort your results ascending alphabetically by post code and take only results from the first 100 post codes.\n",
    "\n",
    "**NOTE:** We'll continue to use the `joined` variable we created before, where we've chosen the alphabetically first postal code for each practice. Additionally, some postal codes will have multiple `'bnf_name'` with the same number of items prescribed for the maximum. In this case, we'll take the alphabetically first `'bnf_name'`.\n",
    "\n",
    "There are several approaches to solve this problem but we will guide you through one of them. Feel free to solve it your own way if it is easier for you to understand and implement. If your kernel keeps on dying, it's probably an indication that you are running out of memory. Consider deleting objects you don't need anymore using the `del` statement and shutdown any other running notebooks. For example:\n",
    "```Python\n",
    "del some_object_not_needed\n",
    "```"
   ]
  },
  {
   "cell_type": "markdown",
   "metadata": {},
   "source": [
    "The first step is to calculate the total items for each `'post_code'` and `'bnf_name'`. Let's call that result `total_items_by_post_bnf`. Consider what is the best data structure(s) to represent `total_items_by_post_bnf`. It should have 141196 `('post_code', 'bnf_name')` groups."
   ]
  },
  {
   "cell_type": "code",
   "execution_count": 36,
   "metadata": {},
   "outputs": [],
   "source": [
    "groups = group_by_field(joined, ('post_code', 'bnf_name'))\n",
    "total_items_by_bnf_post = [(name, sum([group['items'] for group in groups[name]])) for name in groups.keys()]\n",
    "assert len(total_items_by_bnf_post) == 141196"
   ]
  },
  {
   "cell_type": "code",
   "execution_count": 37,
   "metadata": {},
   "outputs": [
    {
     "data": {
      "text/plain": [
       "[(('SK11 6JL', 'Co-Magaldrox_Susp 195mg/220mg/5ml S/F'), 5),\n",
       " (('SK11 6JL', 'Alginate_Raft-Forming Oral Susp S/F'), 3),\n",
       " (('SK11 6JL', 'Sod Algin/Pot Bicarb_Susp S/F'), 94),\n",
       " (('SK11 6JL', 'Sod Alginate/Pot Bicarb_Tab Chble 500mg'), 9),\n",
       " (('SK11 6JL', 'Gaviscon Infant_Sach 2g (Dual Pack) S/F'), 41),\n",
       " (('SK11 6JL', 'Gaviscon Advance_Liq (Aniseed) (Reckitt)'), 98),\n",
       " (('SK11 6JL', 'Gaviscon Advance_Tab Chble Mint(Reckitt)'), 16),\n",
       " (('SK11 6JL', 'Gaviscon Advance_Liq (Peppermint) S/F'), 65),\n",
       " (('SK11 6JL', 'Peptac_Liq (Peppermint) S/F'), 14),\n",
       " (('SK11 6JL', 'Alverine Cit_Cap 60mg'), 10)]"
      ]
     },
     "execution_count": 37,
     "metadata": {},
     "output_type": "execute_result"
    }
   ],
   "source": [
    "total_items_by_bnf_post[:10]\n"
   ]
  },
  {
   "cell_type": "markdown",
   "metadata": {},
   "source": [
    "Next, let's take `total_items_by_post_bnf` and group it by `'post_code'`. In other words, we want a  data structure that maps a `'post_code'` to a list of all records that belong to that `'post_code'`. There should be 118 groups."
   ]
  },
  {
   "cell_type": "code",
   "execution_count": 38,
   "metadata": {},
   "outputs": [],
   "source": [
    "total_items = [{'post_code':t[0][0], 'bnf_name':t[0][1], 'items': t[1]} for t in total_items_by_bnf_post ]\n",
    "total_items_by_post = group_by_field(total_items, ('post_code',))\n",
    "assert len(total_items_by_post) == 118"
   ]
  },
  {
   "cell_type": "markdown",
   "metadata": {},
   "source": [
    "Now with `grouped_post_code`, let's iterate over each group and calculate the following fields for each `'post_code'`:\n",
    "1. the sum of total items for all `'bnf_name'`\n",
    "1. the most total items\n",
    "1. the `'bnf_name'` that had the most total items\n",
    "\n",
    "Once again, consider the best data structure(s) to use to represent the result. It may help to write and use a function when developing your solution."
   ]
  },
  {
   "cell_type": "code",
   "execution_count": 39,
   "metadata": {},
   "outputs": [],
   "source": [
    "max_item_by_post = {k:value for k in total_items_by_post.keys() \\\n",
    "                    for value in sorted(total_items_by_post[k], key=lambda x:(x['items'], x['bnf_name']))}"
   ]
  },
  {
   "cell_type": "markdown",
   "metadata": {},
   "source": [
    "Now, we are ready to:\n",
    "1. calculate the ratio (the amount dispensed as proportion of total)\n",
    "1. [sort](https://docs.python.org/3/howto/sorting.html) alphabetically by the post code\n",
    "1. format the answer as a list of tuples\n",
    "1. take only the first 100 tuples\n",
    "1. submit to the grader"
   ]
  },
  {
   "cell_type": "code",
   "execution_count": 40,
   "metadata": {},
   "outputs": [],
   "source": [
    "#sorted_max_item_by_post = sorted(list(max_item_by_post.items()))\n",
    "\n",
    "items_by_region = sorted([(max_item['post_code'], max_item['bnf_name'], max_item['items']/total_items[1]) \\\n",
    "                   for max_item,total_items in zip(list(max_item_by_post.values()), items_by_post)])[:100]"
   ]
  },
  {
   "cell_type": "code",
   "execution_count": 41,
   "metadata": {},
   "outputs": [
    {
     "name": "stdout",
     "output_type": "stream",
     "text": [
      "==================\n",
      "Your score: 1.000\n",
      "==================\n"
     ]
    }
   ],
   "source": [
    "grader.score.pw__items_by_region(items_by_region)"
   ]
  },
  {
   "cell_type": "markdown",
   "metadata": {},
   "source": [
    "*Copyright &copy; 2021 WorldQuant University. This content is licensed solely for personal use. Redistribution or publication of this material is strictly prohibited.*"
   ]
  }
 ],
 "metadata": {
  "kernelspec": {
   "display_name": "Python 3",
   "language": "python",
   "name": "python3"
  },
  "language_info": {
   "codemirror_mode": {
    "name": "ipython",
    "version": 3
   },
   "file_extension": ".py",
   "mimetype": "text/x-python",
   "name": "python",
   "nbconvert_exporter": "python",
   "pygments_lexer": "ipython3",
   "version": "3.7.3"
  },
  "nbclean": true
 },
 "nbformat": 4,
 "nbformat_minor": 1
}
